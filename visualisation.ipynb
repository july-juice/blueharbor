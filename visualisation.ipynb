{
 "cells": [
  {
   "cell_type": "code",
   "execution_count": null,
   "id": "c00a7864",
   "metadata": {},
   "outputs": [],
   "source": [
    "#pip install seaborn"
   ]
  },
  {
   "cell_type": "code",
   "execution_count": null,
   "id": "5c97cb49",
   "metadata": {},
   "outputs": [],
   "source": [
    "import pandas as pd\n",
    "import mysql.connector\n",
    "import matplotlib.pyplot as plt\n",
    "import seaborn as sns\n",
    "\n",
    "sns.set_theme(style='whitegrid')\n",
    "%matplotlib inline"
   ]
  },
  {
   "cell_type": "code",
   "execution_count": null,
   "id": "93b429d0",
   "metadata": {},
   "outputs": [],
   "source": [
    "db_config = {\n",
    "    \"host\": \"localhost\",\n",
    "    \"user\": \"john\",\n",
    "    \"password\": \"blueharb0r!\",\n",
    "    \"database\": \"blueharbor\"\n",
    "}\n"
   ]
  },
  {
   "cell_type": "code",
   "execution_count": null,
   "id": "b25b74b6",
   "metadata": {},
   "outputs": [],
   "source": [
    "joinquery = \"\"\"\n",
    "select\n",
    "    s.shipment_id, s.origin_country, s.destination_country, s.declared_value, s.weight_kg, s.incoterm, s.shipment_date,\n",
    "    p.product_name, p.product_category,\n",
    "    t.vat_rate, t.customs_duty_rate,\n",
    "    i.invoice_id, i.invoice_value, i.vat_amount, i.customs_amount, i.tax_flag, i.invoice_date\n",
    "from shipments s\n",
    "join invoices i on s.shipment_id = i.shipment_id\n",
    "join products p on s.product_id = p.product_id\n",
    "left join tax_rates t on s.destination_country = t.country;\n",
    "\"\"\""
   ]
  },
  {
   "cell_type": "code",
   "execution_count": null,
   "id": "8df62549",
   "metadata": {},
   "outputs": [],
   "source": [
    "conn = mysql.connector.connect(**db_config)\n",
    "\n",
    "df = pd.read_sql(joinquery, conn)\n",
    "conn.close()"
   ]
  },
  {
   "cell_type": "code",
   "execution_count": null,
   "id": "f6de5271",
   "metadata": {},
   "outputs": [],
   "source": [
    "#total VAT collected by dest country graph\n",
    "vat_per_country = df.groupby('destination_country')['vat_amount'].sum().sort_values(ascending=False)\n",
    "vat_per_country.plot(kind='bar', figsize=(10,5), title= 'Total VAT - Destination Country', color='blue')\n",
    "plt.ylabel('VAT')\n",
    "# plt.show()\n"
   ]
  },
  {
   "cell_type": "code",
   "execution_count": null,
   "id": "12ee355c",
   "metadata": {},
   "outputs": [],
   "source": [
    "\n",
    "#total custom collected by dest country\n",
    "customs_per_country = df.groupby('destination_country')['customs_amount'].sum().sort_values(ascending=False)\n",
    "customs_per_country.plot(kind='bar', figsize=(10,5), title= 'Total Customs - Destination Country', color='red')\n",
    "plt.ylabel('Customs')\n",
    "# plt.show()"
   ]
  },
  {
   "cell_type": "code",
   "execution_count": null,
   "id": "727da029",
   "metadata": {},
   "outputs": [],
   "source": [
    "\n",
    "#total invoice value according to product category\n",
    "invoice_per_cat = df.groupby('product_category')['invoice_value'].sum().sort_values(ascending=False)\n",
    "invoice_per_cat.plot(kind='bar', figsize=(10,5), title= 'Total Invoice Value - Product Category', color='green')\n",
    "plt.ylabel('Invoice Value')\n",
    "# plt.show()"
   ]
  },
  {
   "cell_type": "code",
   "execution_count": null,
   "id": "eebcec6e",
   "metadata": {},
   "outputs": [],
   "source": [
    "#avg vat value by product category\n",
    "avg_vat_by_cat = df.groupby('product_category')['invoice_value'].mean().sort_values(ascending=False)\n",
    "avg_vat_by_cat.plot(kind='bar', figsize=(10,5), title= 'Total Invoice Value - Product Category', color='purple')\n",
    "plt.ylabel('Invoice Value')\n",
    "# plt.show()"
   ]
  },
  {
   "cell_type": "code",
   "execution_count": null,
   "id": "33dbeb2c",
   "metadata": {},
   "outputs": [],
   "source": [
    "df['vat_ratio'] = (df['vat_amount']/df['declared_value']) * 100\n",
    "\n",
    "vat_eff = df.groupby('product_category')['vat_ratio'].mean().sort_values(ascending=False)\n",
    "vat_eff.plot(kind='bar',figsize=(10,5), title='VAT Efficiency by Product Category', color = 'teal')\n",
    "plt.ylabel('VAT/Declared Value Percentage')\n",
    "# plt.show()"
   ]
  },
  {
   "cell_type": "code",
   "execution_count": null,
   "id": "37933e55",
   "metadata": {},
   "outputs": [],
   "source": [
    "from ipywidgets import interact, widgets, interactive_output \n",
    "from datetime import date\n",
    "\n",
    "def plot_dashboard2(selected_country=\"All\", selected_category=\"All\"):\n",
    "    data = df.copy()\n",
    "\n",
    "    if selected_country != \"All\":\n",
    "        data = data[data['destination_country']==selected_country]\n",
    "\n",
    "    if selected_category != \"All\":\n",
    "        data = data[data['product_category']==selected_category]\n",
    "\n",
    "    fig,axes = plt.subplots(2,2,figsize=(15,10))\n",
    "\n",
    "    #total VAT collected by dest country graph\n",
    "    vat_per_country = data.groupby('destination_country')['vat_amount'].sum()\n",
    "    vat_per_country.plot(kind='bar', ax=axes[0,0], color='skyblue', title= 'Total VAT - Destination Country')\n",
    "    axes[0,0].set_ylabel('VAT')\n",
    "    \n",
    "\n",
    "    #total custom collected by dest country\n",
    "    customs_per_country = data.groupby('destination_country')['customs_amount'].sum()\n",
    "    customs_per_country.plot(kind='bar', ax=axes[0,1], title= 'Total Customs - Destination Country', color='red')\n",
    "    axes[0,1].set_ylabel('Customs')\n",
    "\n",
    "\n",
    "    #total invoice value according to product category\n",
    "    invoice_per_cat = data.groupby('product_category')['invoice_value'].sum()\n",
    "    invoice_per_cat.plot(kind='bar', ax=axes[1,0], title= 'Total Invoice Value - Product Category', color='green')\n",
    "    axes[1,0].set_ylabel('Invoice Value')\n",
    "\n",
    "    vat_eff = data.groupby('product_category')['vat_ratio'].mean()\n",
    "    vat_eff.plot(kind='bar',ax=axes[1,1], title='VAT Efficiency by Product Category', color = 'teal')\n",
    "    axes[1,1].set_ylabel('VAT / Declared Value Percentage')\n",
    "\n",
    "    plt.tight_layout()\n",
    "    plt.show()"
   ]
  },
  {
   "cell_type": "code",
   "execution_count": null,
   "id": "24d32d07",
   "metadata": {},
   "outputs": [],
   "source": [
    "# collected data visualisation\n",
    "country_options = [\"All\"] + sorted(df['destination_country'].unique().tolist())\n",
    "category_options = [\"All\"] + sorted(df['product_category'].unique().tolist())\n",
    "\n",
    "interact(plot_dashboard2, \n",
    "         selected_country=widgets.Dropdown(options=country_options, description=\"Country\"),\n",
    "         selected_category=widgets.Dropdown(options=category_options, description=\"Category\"))\n"
   ]
  },
  {
   "cell_type": "code",
   "execution_count": null,
   "id": "44334c66",
   "metadata": {},
   "outputs": [],
   "source": [
    "# Incoterms trend\n",
    "\n",
    "incoterm_customs = (df.groupby(\"incoterm\")[\"customs_amount\"].mean().sort_values(ascending=False)\n",
    ")\n",
    "incoterm_customs.plot(kind=\"bar\", color=\"coral\", figsize=(8,4))\n",
    "plt.title(\"Average Customs Cost by Incoterm\")\n",
    "plt.ylabel(\"Average Customs (£)\")\n",
    "plt.xlabel(\"Incoterm\")\n",
    "plt.tight_layout()\n",
    "plt.show()\n",
    "\n",
    "incoterm_vat = (df.groupby(\"incoterm\")[\"vat_amount\"].mean().sort_values(ascending=False)\n",
    ")\n",
    "incoterm_vat.plot(kind=\"bar\", color=\"blue\", figsize=(8,4))\n",
    "plt.title(\"Average VAT Cost by Incoterm\")\n",
    "plt.ylabel(\"Average VAT (£)\")\n",
    "plt.xlabel(\"Incoterm\")\n",
    "plt.tight_layout()\n",
    "plt.show()"
   ]
  }
 ],
 "metadata": {
  "kernelspec": {
   "display_name": "venv",
   "language": "python",
   "name": "python3"
  },
  "language_info": {
   "codemirror_mode": {
    "name": "ipython",
    "version": 3
   },
   "file_extension": ".py",
   "mimetype": "text/x-python",
   "name": "python",
   "nbconvert_exporter": "python",
   "pygments_lexer": "ipython3",
   "version": "3.13.5"
  }
 },
 "nbformat": 4,
 "nbformat_minor": 5
}
