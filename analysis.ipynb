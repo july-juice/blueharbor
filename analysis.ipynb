{
 "cells": [
  {
   "cell_type": "code",
   "execution_count": null,
   "id": "401ace5a",
   "metadata": {},
   "outputs": [],
   "source": [
    "import pandas as pd\n",
    "import mysql.connector"
   ]
  },
  {
   "cell_type": "code",
   "execution_count": null,
   "id": "efffc6d2",
   "metadata": {},
   "outputs": [],
   "source": [
    "db_config = {\n",
    "    \"host\": \"localhost\",\n",
    "    \"user\": \"john\",\n",
    "    \"password\": \"blueharb0r!\",\n",
    "    \"database\": \"blueharbor\"\n",
    "}\n",
    "\n",
    "conn = mysql.connector.connect(**db_config)"
   ]
  },
  {
   "cell_type": "code",
   "execution_count": null,
   "id": "e55716e2",
   "metadata": {},
   "outputs": [],
   "source": [
    "query = \"\"\"\n",
    "SELECT s.shipment_id, s.origin_country, s.destination_country, s.product_id, s.declared_value, s.weight_kg, s.shipment_date, s.incoterm, i.invoice_id, i.invoice_value, i.vat_amount, i.customs_amount, i.tax_flag \n",
    "FROM shipments s\n",
    "JOIN invoices i ON s.shipment_id = i.shipment_id;\n",
    "\n",
    "\"\"\""
   ]
  },
  {
   "cell_type": "code",
   "execution_count": null,
   "id": "3fe80da2",
   "metadata": {},
   "outputs": [],
   "source": [
    "df = pd.read_sql(query,conn)\n",
    "conn.close()"
   ]
  },
  {
   "cell_type": "code",
   "execution_count": null,
   "id": "15347d1c",
   "metadata": {},
   "outputs": [],
   "source": [
    "print(df.head())\n",
    "print(f\"Total rows: {len(df)}\")"
   ]
  },
  {
   "cell_type": "markdown",
   "id": "f5cfe0b1",
   "metadata": {},
   "source": [
    "A brief view of the indirect tax landscape:"
   ]
  },
  {
   "cell_type": "code",
   "execution_count": null,
   "id": "1025a8a1",
   "metadata": {},
   "outputs": [],
   "source": [
    "#total VAT collected by dest country\n",
    "vat_per_country = df.groupby('destination_country')['vat_amount'].sum().sort_values(ascending=False)\n",
    "print(vat_per_country)\n",
    "\n",
    "#total custom collected by dest country\n",
    "customs_per_country = df.groupby('destination_country')['customs_amount'].sum()\n",
    "print(customs_per_country)\n",
    "\n",
    "#shipments per product\n",
    "ship_per_product = df.groupby('product_id')['shipment_id'].count()\n",
    "print(ship_per_product)\n",
    "\n",
    "#count missing vat invoices\n",
    "count_missing_vat = df[df['tax_flag'] == 'MISSING_VAT'].shape[0]\n",
    "print(f\"{count_missing_vat} invoices missing VAT\")"
   ]
  },
  {
   "cell_type": "markdown",
   "id": "c8f262a5",
   "metadata": {},
   "source": [
    "Complete view of each shipment, joining tables together."
   ]
  },
  {
   "cell_type": "code",
   "execution_count": null,
   "id": "7b40ddf3",
   "metadata": {},
   "outputs": [],
   "source": [
    "import pandas as pd\n",
    "import mysql.connector"
   ]
  },
  {
   "cell_type": "code",
   "execution_count": null,
   "id": "5031f692",
   "metadata": {},
   "outputs": [],
   "source": [
    "db_config = {\n",
    "    \"host\": \"localhost\",\n",
    "    \"user\": \"john\",\n",
    "    \"password\": \"blueharb0r!\",\n",
    "    \"database\": \"blueharbor\"\n",
    "}\n",
    "\n",
    "conn = mysql.connector.connect(**db_config)"
   ]
  },
  {
   "cell_type": "code",
   "execution_count": null,
   "id": "31cb8419",
   "metadata": {},
   "outputs": [],
   "source": [
    "query2 = \"\"\"\n",
    "select\n",
    "    s.shipment_id, s.origin_country, s.destination_country, s.declared_value, s.weight_kg, s.incoterm, s.shipment_date,\n",
    "    p.product_name, p.product_category,\n",
    "    t.vat_rate, t.customs_duty_rate,\n",
    "    i.invoice_id, i.invoice_value, i.vat_amount, i.customs_amount, i.tax_flag, i.invoice_date\n",
    "from shipments s\n",
    "join invoices i on s.shipment_id = i.shipment_id\n",
    "join products p on s.product_id = p.product_id\n",
    "left join tax_rates t on s.destination_country = t.country;\n",
    "\"\"\""
   ]
  },
  {
   "cell_type": "code",
   "execution_count": null,
   "id": "76731a9c",
   "metadata": {},
   "outputs": [],
   "source": [
    "df = pd.read_sql(query2, conn)\n",
    "conn.close()"
   ]
  },
  {
   "cell_type": "code",
   "execution_count": null,
   "id": "e5d6e76d",
   "metadata": {},
   "outputs": [],
   "source": [
    "print(df.head())\n",
    "print(f\"{len(df)} rows and {df.shape[1]} columns\")"
   ]
  }
 ],
 "metadata": {
  "kernelspec": {
   "display_name": "venv",
   "language": "python",
   "name": "python3"
  },
  "language_info": {
   "codemirror_mode": {
    "name": "ipython",
    "version": 3
   },
   "file_extension": ".py",
   "mimetype": "text/x-python",
   "name": "python",
   "nbconvert_exporter": "python",
   "pygments_lexer": "ipython3",
   "version": "3.13.5"
  }
 },
 "nbformat": 4,
 "nbformat_minor": 5
}
