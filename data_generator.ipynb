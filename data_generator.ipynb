{
 "cells": [
  {
   "cell_type": "code",
   "execution_count": null,
   "id": "928503a3",
   "metadata": {},
   "outputs": [],
   "source": [
    "from faker import Faker\n",
    "import random\n",
    "import mysql.connector\n",
    "from datetime import datetime, timedelta"
   ]
  },
  {
   "cell_type": "code",
   "execution_count": null,
   "id": "65b1b15d",
   "metadata": {},
   "outputs": [],
   "source": [
    "db_config = {\n",
    "    \"host\": \"localhost\",\n",
    "    \"user\": \"john\",\n",
    "    \"password\": \"blueharb0r!\",\n",
    "    \"database\": \"blueharbor\"\n",
    "}"
   ]
  },
  {
   "cell_type": "code",
   "execution_count": null,
   "id": "17ff9192",
   "metadata": {},
   "outputs": [],
   "source": [
    "fake = Faker()\n",
    "random.seed(42)"
   ]
  },
  {
   "cell_type": "code",
   "execution_count": null,
   "id": "888c957f",
   "metadata": {},
   "outputs": [],
   "source": [
    "def connect():\n",
    "    return mysql.connector.connect(**db_config)"
   ]
  },
  {
   "cell_type": "code",
   "execution_count": null,
   "id": "e9a025b0",
   "metadata": {},
   "outputs": [],
   "source": [
    "def seed_tax_rates(cursor):\n",
    "    countries = [\n",
    "        (\"United Kingdom\", 0.20, 0.05),\n",
    "        (\"France\", 0.20, 0.07),\n",
    "        (\"Germany\", 0.19, 0.06),\n",
    "        (\"Netherlands\", 0.21, 0.05),\n",
    "        (\"United States\", 0.00, 0.08),\n",
    "        (\"China\", 0.13, 0.10),\n",
    "        (\"Japan\", 0.10, 0.04),\n",
    "        (\"India\", 0.18, 0.12)\n",
    "    ]\n",
    "\n",
    "    cursor.executemany(\"\"\"\n",
    "        INSERT INTO tax_rates (country, vat_rate, customs_duty_rate)\n",
    "        VALUES (%s, %s, %s)\n",
    "        ON DUPLICATE KEY UPDATE vat_rate=VALUES(vat_rate),\n",
    "                                customs_duty_rate=VALUES(customs_duty_rate);\n",
    "    \"\"\", countries)\n",
    "    print(f\"Inserted/updated {cursor.rowcount} tax rates.\")\n"
   ]
  },
  {
   "cell_type": "code",
   "execution_count": null,
   "id": "80d74abe",
   "metadata": {},
   "outputs": [],
   "source": [
    "def seed_products(cursor):\n",
    "    product_list = [\n",
    "        (\"Electronics - Smartphone\", \"Electronics\"),\n",
    "        (\"Electronics - Laptop\", \"Electronics\"),\n",
    "        (\"Clothing - Jacket\", \"Apparel\"),\n",
    "        (\"Clothing - Shoes\", \"Apparel\"),\n",
    "        (\"Furniture - Chair\", \"Home\"),\n",
    "        (\"Furniture - Table\", \"Home\"),\n",
    "        (\"Toys - Board Game\", \"Toys\"),\n",
    "        (\"Food - Chocolate\", \"Groceries\")\n",
    "    ]\n",
    "\n",
    "    cursor.executemany(\"\"\"\n",
    "        INSERT INTO products (product_name, product_category)\n",
    "        VALUES (%s, %s);\n",
    "    \"\"\", product_list)\n",
    "    print(f\"Inserted {cursor.rowcount} products.\")\n"
   ]
  },
  {
   "cell_type": "code",
   "execution_count": null,
   "id": "a5516b20",
   "metadata": {},
   "outputs": [],
   "source": [
    "def seed_shipments_and_invoices(cursor, n_shipments=500):\n",
    "    # products and countries in DB\n",
    "    cursor.execute(\"SELECT product_id FROM products;\")\n",
    "    product_ids = [row[0] for row in cursor.fetchall()]\n",
    "\n",
    "    cursor.execute(\"SELECT country, vat_rate, customs_duty_rate FROM tax_rates;\")\n",
    "    country_data = cursor.fetchall()\n",
    "    countries = [row[0] for row in country_data]\n",
    "    tax_lookup = {row[0]: {\"vat\": row[1], \"duty\": row[2]} for row in country_data}\n",
    "\n",
    "    incoterms = [\"CIF\", \"FOB\", \"DDP\", \"EXW\"]\n",
    "    \n",
    "    shipments, invoices = [], []\n",
    "\n",
    "    for _ in range(n_shipments):\n",
    "        origin, destination = random.sample(countries, 2)\n",
    "        product_id = random.choice(product_ids)\n",
    "        declared_value = round(random.uniform(500, 10000), 2)\n",
    "        weight_kg = round(random.uniform(10, 1000), 2)\n",
    "        ship_date = fake.date_between(start_date=\"-2y\", end_date=\"today\")\n",
    "        incoterm = random.choice(incoterms)\n",
    "\n",
    "        shipments.append((origin, destination, product_id, declared_value, weight_kg, ship_date, incoterm))\n",
    "\n",
    "    cursor.executemany(\"\"\"\n",
    "        INSERT INTO shipments (origin_country, destination_country, product_id, declared_value, weight_kg, shipment_date, incoterm)\n",
    "        VALUES (%s, %s, %s, %s, %s, %s, %s);\n",
    "    \"\"\", shipments)\n",
    "\n",
    "    cursor.execute(\"SELECT shipment_id, destination_country, declared_value FROM shipments;\")\n",
    "    shipment_rows = cursor.fetchall()\n",
    "\n",
    "    for shipment_id, dest, value in shipment_rows:\n",
    "        rates = tax_lookup.get(dest, {\"vat\": 0.0, \"duty\": 0.0})\n",
    "        vat = round(value * rates[\"vat\"], 2)\n",
    "        duty = round(value * rates[\"duty\"], 2)\n",
    "        invoice_value = round(value + vat + duty, 2)\n",
    "        invoice_date = fake.date_between(start_date=\"-2y\", end_date=\"today\")\n",
    "        tax_flag = \"OK\" if random.random() > 0.05 else \"MISSING_VAT\"\n",
    "\n",
    "        invoices.append((shipment_id, invoice_date, invoice_value, vat, duty, tax_flag))\n",
    "\n",
    "    cursor.executemany(\"\"\"\n",
    "        INSERT INTO invoices (shipment_id, invoice_date, invoice_value, vat_amount, customs_amount, tax_flag)\n",
    "        VALUES (%s, %s, %s, %s, %s, %s);\n",
    "    \"\"\", invoices)\n",
    "\n",
    "    print(f\"Inserted {len(shipments)} shipments and {len(invoices)} invoices.\")\n",
    "\n",
    "    \n"
   ]
  },
  {
   "cell_type": "code",
   "execution_count": null,
   "id": "06e3fdd3",
   "metadata": {},
   "outputs": [],
   "source": [
    "if __name__ == \"__main__\":\n",
    "    conn = connect()\n",
    "    cursor = conn.cursor()\n",
    "\n",
    "    seed_tax_rates(cursor)\n",
    "    seed_products(cursor)\n",
    "    seed_shipments_and_invoices(cursor, n_shipments=300)\n",
    "\n",
    "    conn.commit()\n",
    "    cursor.close()\n",
    "    conn.close()\n",
    "    print(\"Data seeded into MySQL.\")"
   ]
  }
 ],
 "metadata": {
  "kernelspec": {
   "display_name": "venv",
   "language": "python",
   "name": "python3"
  },
  "language_info": {
   "codemirror_mode": {
    "name": "ipython",
    "version": 3
   },
   "file_extension": ".py",
   "mimetype": "text/x-python",
   "name": "python",
   "nbconvert_exporter": "python",
   "pygments_lexer": "ipython3",
   "version": "3.13.5"
  }
 },
 "nbformat": 4,
 "nbformat_minor": 5
}
